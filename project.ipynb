{
 "cells": [
  {
   "cell_type": "code",
   "execution_count": 1,
   "metadata": {},
   "outputs": [],
   "source": [
    "import pandas as pd \n",
    "import numpy as np \n",
    "import datetime as dt\n",
    "import matplotlib.pyplot as plt\n",
    "import xgboost as xgb"
   ]
  },
  {
   "cell_type": "code",
   "execution_count": 2,
   "metadata": {},
   "outputs": [],
   "source": [
    "#reading and concatenating datasets, removing missing values from the days of daylight saving\n",
    "df2023 = pd.read_csv('Total Load - Day Ahead _ Actual_202301010000-202401010000.csv')\n",
    "df2024 = pd.read_csv('Total Load - Day Ahead _ Actual_202401010000-202501010000.csv')\n",
    "df = pd.concat([df2023, df2024]).reset_index(drop=True)\n",
    "df = df[df['Actual Total Load [MW] - BZN|SK'] != '-']\n",
    "df.dropna(inplace=True)\n",
    "df.reset_index(drop=True, inplace=True)"
   ]
  },
  {
   "cell_type": "code",
   "execution_count": 3,
   "metadata": {},
   "outputs": [
    {
     "name": "stderr",
     "output_type": "stream",
     "text": [
      "C:\\Users\\hrech\\AppData\\Local\\Temp\\ipykernel_2276\\2243825143.py:13: FutureWarning: Comparison of Timestamp with datetime.date is deprecated in order to match the standard library behavior. In a future version these will be considered non-comparable. Use 'ts == pd.Timestamp(date)' or 'ts.date() == date' instead.\n",
      "  df[\"holiday\"] = df[\"Time (CET/CEST)\"].apply(lambda x: 1 if x in public_holidays_sk else 0)\n"
     ]
    }
   ],
   "source": [
    "#adding hour, workday/weekned and public holiday variables\n",
    "public_holidays_sk = [dt.date(2023, 1, 1), dt.date(2023, 1, 6), dt.date(2023, 4, 7),\n",
    "                  dt.date(2023, 4, 8), dt.date(2023, 4, 9), dt.date(2023, 4, 10), \n",
    "                  dt.date(2023, 5, 1), dt.date(2023, 5, 8), dt.date(2023, 7, 5),\n",
    "                  dt.date(2023, 8, 29), dt.date(2023, 9, 1), dt.date(2023, 9, 15),\n",
    "                  dt.date(2023, 11, 1), dt.date(2023, 11, 17),\n",
    "                  dt.date(2023, 12, 24), dt.date(2023, 12, 25), dt.date(2023, 12, 26),\n",
    "                  dt.date(2024, 1, 1), dt.date(2024, 1, 6)]\n",
    "\n",
    "df['Time (CET/CEST)'] = df['Time (CET/CEST)'].apply(lambda x: dt.datetime.strptime(x.split(' - ')[0], \"%d.%m.%Y %H:%M\"))\n",
    "df[\"dow\"] = df[\"Time (CET/CEST)\"].apply(lambda x: 1 if ((x.weekday() == 5) or (x.weekday() == 6)) else 0)\n",
    "df[\"hour\"] = df[\"Time (CET/CEST)\"].apply(lambda x: x.hour)\n",
    "df[\"holiday\"] = df[\"Time (CET/CEST)\"].apply(lambda x: 1 if x in public_holidays_sk else 0)"
   ]
  },
  {
   "cell_type": "code",
   "execution_count": 4,
   "metadata": {},
   "outputs": [],
   "source": [
    "#adding variable for the consumption from the day before\n",
    "val_yesterday = []\n",
    "for i in df[\"Time (CET/CEST)\"].tolist():\n",
    "    val = df[df['Time (CET/CEST)'] == (i - dt.timedelta(days=1))][\"Actual Total Load [MW] - BZN|SK\"].values\n",
    "    try: \n",
    "        val = val[0]\n",
    "    except:\n",
    "        val = np.nan\n",
    "\n",
    "    val_yesterday.append(val)\n",
    "\n",
    "df['yesterday'] = val_yesterday"
   ]
  },
  {
   "cell_type": "code",
   "execution_count": 5,
   "metadata": {},
   "outputs": [],
   "source": [
    "#dropping 1.01.2023, as there is no data from the previous day and the end of the data, so we have the whole days\n",
    "df = df.iloc[24:-9, :]"
   ]
  },
  {
   "cell_type": "code",
   "execution_count": 6,
   "metadata": {},
   "outputs": [],
   "source": [
    "#replace missing values with the mean of 2 closest in time\n",
    "for i in df[df['yesterday'].isna()].index.tolist():\n",
    "    df.loc[i, 'yesterday'] = (df.loc[i-1, 'yesterday'] + df.loc[i+1, 'yesterday'])/2\n",
    "\n",
    "df.reset_index(drop=True, inplace=True)"
   ]
  },
  {
   "cell_type": "code",
   "execution_count": 7,
   "metadata": {},
   "outputs": [],
   "source": [
    "#separating the last week for testing and dividing dataset 80:20 for training and validation\n",
    "num_days = (df.shape[0] // 24) - 7\n",
    "val_split = int(num_days * 0.8)*24\n",
    "test_split = num_days*24"
   ]
  },
  {
   "cell_type": "code",
   "execution_count": 8,
   "metadata": {},
   "outputs": [],
   "source": [
    "trainX, trainY = df.iloc[:val_split, 3:].values.astype(float), df.iloc[:val_split, 2].to_numpy().astype(float)\n",
    "valX, valY = df.iloc[val_split:test_split, 3:].values.astype(float), df.iloc[val_split:test_split, 2].to_numpy().astype(float)\n",
    "testX, testY = df.iloc[test_split:, 3:].values.astype(float), df.iloc[test_split:, 2].to_numpy().astype(float)"
   ]
  },
  {
   "cell_type": "code",
   "execution_count": 9,
   "metadata": {},
   "outputs": [],
   "source": [
    "train_reg = xgb.DMatrix(trainX, trainY, enable_categorical=True)\n",
    "val_reg = xgb.DMatrix(valX, valY, enable_categorical=True)\n",
    "evals = [(train_reg, \"train\")]"
   ]
  },
  {
   "cell_type": "code",
   "execution_count": 10,
   "metadata": {},
   "outputs": [
    {
     "name": "stdout",
     "output_type": "stream",
     "text": [
      "[0]\ttrain-rmse:318.73337\n",
      "[1]\ttrain-rmse:245.17355\n",
      "[2]\ttrain-rmse:198.41022\n",
      "[3]\ttrain-rmse:169.96951\n",
      "[4]\ttrain-rmse:153.42554\n",
      "[5]\ttrain-rmse:144.03129\n",
      "[6]\ttrain-rmse:138.59478\n",
      "[7]\ttrain-rmse:135.28439\n",
      "[8]\ttrain-rmse:133.55692\n",
      "[9]\ttrain-rmse:132.10237\n"
     ]
    }
   ],
   "source": [
    "params = {\"objective\": \"reg:squarederror\", \"verbosity\": 0}\n",
    "evals_simple = {}\n",
    "modelSimple = xgb.train(params=params, dtrain=train_reg, evals=evals, evals_result=evals_simple)"
   ]
  },
  {
   "cell_type": "code",
   "execution_count": 11,
   "metadata": {},
   "outputs": [
    {
     "name": "stdout",
     "output_type": "stream",
     "text": [
      "[0]\ttrain-rmse:392.48901\n",
      "[1]\ttrain-rmse:359.19983\n",
      "[2]\ttrain-rmse:329.59810\n",
      "[3]\ttrain-rmse:303.34747\n",
      "[4]\ttrain-rmse:280.10720\n",
      "[5]\ttrain-rmse:259.74866\n",
      "[6]\ttrain-rmse:241.75469\n",
      "[7]\ttrain-rmse:225.95241\n",
      "[8]\ttrain-rmse:212.28912\n",
      "[9]\ttrain-rmse:200.39368\n",
      "[10]\ttrain-rmse:190.12276\n",
      "[11]\ttrain-rmse:181.33215\n",
      "[12]\ttrain-rmse:173.71958\n",
      "[13]\ttrain-rmse:167.27462\n",
      "[14]\ttrain-rmse:161.74859\n",
      "[15]\ttrain-rmse:156.99045\n",
      "[16]\ttrain-rmse:152.97108\n",
      "[17]\ttrain-rmse:149.56463\n",
      "[18]\ttrain-rmse:146.69454\n",
      "[19]\ttrain-rmse:144.27303\n",
      "[20]\ttrain-rmse:142.24847\n",
      "[21]\ttrain-rmse:140.53416\n",
      "[22]\ttrain-rmse:139.10257\n",
      "[23]\ttrain-rmse:137.85908\n",
      "[24]\ttrain-rmse:136.78880\n",
      "[25]\ttrain-rmse:135.92579\n",
      "[26]\ttrain-rmse:135.16800\n",
      "[27]\ttrain-rmse:134.52554\n",
      "[28]\ttrain-rmse:133.96127\n",
      "[29]\ttrain-rmse:133.51867\n",
      "[30]\ttrain-rmse:132.94766\n",
      "[31]\ttrain-rmse:132.56393\n",
      "[32]\ttrain-rmse:132.08986\n",
      "[33]\ttrain-rmse:131.77260\n",
      "[34]\ttrain-rmse:131.39123\n",
      "[35]\ttrain-rmse:131.03889\n",
      "[36]\ttrain-rmse:130.76711\n"
     ]
    },
    {
     "name": "stdout",
     "output_type": "stream",
     "text": [
      "[37]\ttrain-rmse:130.54400\n",
      "[38]\ttrain-rmse:130.31714\n",
      "[39]\ttrain-rmse:130.11293\n"
     ]
    }
   ],
   "source": [
    "params = {\"objective\": \"reg:squarederror\", \"verbosity\": 0, \"eta\":0.1, \"lambda\":2}\n",
    "evals_L2 = {}\n",
    "modelL2 = xgb.train(params=params, dtrain=train_reg, evals=evals, evals_result=evals_L2,\n",
    "                  num_boost_round=40)"
   ]
  },
  {
   "cell_type": "code",
   "execution_count": 12,
   "metadata": {},
   "outputs": [
    {
     "name": "stdout",
     "output_type": "stream",
     "text": [
      "[0]\ttrain-rmse:393.75229\n",
      "[1]\ttrain-rmse:361.43134\n",
      "[2]\ttrain-rmse:332.67314\n",
      "[3]\ttrain-rmse:307.01404\n",
      "[4]\ttrain-rmse:284.19961\n",
      "[5]\ttrain-rmse:264.08373\n",
      "[6]\ttrain-rmse:246.39364\n",
      "[7]\ttrain-rmse:230.80895\n",
      "[8]\ttrain-rmse:217.20088\n",
      "[9]\ttrain-rmse:205.32947\n",
      "[10]\ttrain-rmse:194.92163\n",
      "[11]\ttrain-rmse:185.98593\n",
      "[12]\ttrain-rmse:178.30210\n",
      "[13]\ttrain-rmse:171.67060\n",
      "[14]\ttrain-rmse:165.94347\n",
      "[15]\ttrain-rmse:161.04881\n",
      "[16]\ttrain-rmse:156.87665\n",
      "[17]\ttrain-rmse:153.23776\n",
      "[18]\ttrain-rmse:150.17597\n",
      "[19]\ttrain-rmse:147.56049\n",
      "[20]\ttrain-rmse:145.34008\n",
      "[21]\ttrain-rmse:143.44393\n",
      "[22]\ttrain-rmse:141.79105\n",
      "[23]\ttrain-rmse:140.41073\n",
      "[24]\ttrain-rmse:139.22380\n",
      "[25]\ttrain-rmse:138.22020\n",
      "[26]\ttrain-rmse:137.37067\n",
      "[27]\ttrain-rmse:136.63967\n",
      "[28]\ttrain-rmse:135.94269\n",
      "[29]\ttrain-rmse:135.37908\n",
      "[30]\ttrain-rmse:134.88101\n",
      "[31]\ttrain-rmse:134.39223\n",
      "[32]\ttrain-rmse:133.95389\n",
      "[33]\ttrain-rmse:133.54273\n",
      "[34]\ttrain-rmse:133.19872\n",
      "[35]\ttrain-rmse:132.90788\n",
      "[36]\ttrain-rmse:132.62899\n",
      "[37]\ttrain-rmse:132.34097\n",
      "[38]\ttrain-rmse:132.11677\n",
      "[39]\ttrain-rmse:131.91640\n"
     ]
    }
   ],
   "source": [
    "params = {\"objective\": \"reg:squarederror\", \"verbosity\": 0, \"eta\":0.1, \"lambda\":10}\n",
    "evals_L10 = {}\n",
    "modelL10 = xgb.train(params=params, dtrain=train_reg, evals=evals, evals_result=evals_L10,\n",
    "                  num_boost_round=40)"
   ]
  },
  {
   "cell_type": "code",
   "execution_count": 13,
   "metadata": {},
   "outputs": [
    {
     "name": "stdout",
     "output_type": "stream",
     "text": [
      "[0]\ttrain-rmse:398.38747\n",
      "[1]\ttrain-rmse:370.13615\n",
      "[2]\ttrain-rmse:344.60589\n",
      "[3]\ttrain-rmse:321.92939\n",
      "[4]\ttrain-rmse:301.42438\n",
      "[5]\ttrain-rmse:283.23594\n",
      "[6]\ttrain-rmse:266.89770\n",
      "[7]\ttrain-rmse:252.56946\n",
      "[8]\ttrain-rmse:239.57741\n",
      "[9]\ttrain-rmse:227.78754\n",
      "[10]\ttrain-rmse:217.26078\n",
      "[11]\ttrain-rmse:208.03620\n",
      "[12]\ttrain-rmse:199.73997\n",
      "[13]\ttrain-rmse:192.48194\n",
      "[14]\ttrain-rmse:185.90336\n",
      "[15]\ttrain-rmse:180.28579\n",
      "[16]\ttrain-rmse:175.35454\n",
      "[17]\ttrain-rmse:170.82518\n",
      "[18]\ttrain-rmse:166.93606\n",
      "[19]\ttrain-rmse:163.34683\n",
      "[20]\ttrain-rmse:160.23030\n",
      "[21]\ttrain-rmse:157.49081\n",
      "[22]\ttrain-rmse:154.97728\n",
      "[23]\ttrain-rmse:152.91090\n",
      "[24]\ttrain-rmse:151.00180\n",
      "[25]\ttrain-rmse:149.38243\n",
      "[26]\ttrain-rmse:147.81365\n",
      "[27]\ttrain-rmse:146.46811\n",
      "[28]\ttrain-rmse:145.27059\n",
      "[29]\ttrain-rmse:144.20896\n",
      "[30]\ttrain-rmse:143.23115\n",
      "[31]\ttrain-rmse:142.39292\n",
      "[32]\ttrain-rmse:141.54714\n",
      "[33]\ttrain-rmse:140.76947\n",
      "[34]\ttrain-rmse:140.11660\n",
      "[35]\ttrain-rmse:139.54023\n",
      "[36]\ttrain-rmse:139.02906\n",
      "[37]\ttrain-rmse:138.53901\n",
      "[38]\ttrain-rmse:138.06286\n",
      "[39]\ttrain-rmse:137.64013\n"
     ]
    }
   ],
   "source": [
    "params = {\"objective\": \"reg:squarederror\", \"verbosity\": 0, \"eta\":0.1, \"lambda\":100}\n",
    "evals_L100 = {}\n",
    "modelL100 = xgb.train(params=params, dtrain=train_reg, evals=evals, evals_result=evals_L100,\n",
    "                  num_boost_round=40)"
   ]
  },
  {
   "cell_type": "code",
   "execution_count": 14,
   "metadata": {},
   "outputs": [
    {
     "name": "stdout",
     "output_type": "stream",
     "text": [
      "[0]\ttrain-rmse:392.24224\n",
      "[1]\ttrain-rmse:358.75347\n",
      "[2]\ttrain-rmse:328.99486\n",
      "[3]\ttrain-rmse:302.59996\n",
      "[4]\ttrain-rmse:279.42102\n",
      "[5]\ttrain-rmse:258.88216\n",
      "[6]\ttrain-rmse:240.94729\n",
      "[7]\ttrain-rmse:225.25283\n",
      "[8]\ttrain-rmse:211.50381\n",
      "[9]\ttrain-rmse:199.68482\n",
      "[10]\ttrain-rmse:189.39020\n",
      "[11]\ttrain-rmse:180.56567\n",
      "[12]\ttrain-rmse:172.99944\n",
      "[13]\ttrain-rmse:166.58769\n",
      "[14]\ttrain-rmse:161.10587\n",
      "[15]\ttrain-rmse:156.37681\n",
      "[16]\ttrain-rmse:152.40989\n",
      "[17]\ttrain-rmse:149.05632\n",
      "[18]\ttrain-rmse:146.22964\n",
      "[19]\ttrain-rmse:143.85891\n",
      "[20]\ttrain-rmse:141.85794\n",
      "[21]\ttrain-rmse:140.13933\n",
      "[22]\ttrain-rmse:138.70095\n",
      "[23]\ttrain-rmse:137.51336\n",
      "[24]\ttrain-rmse:136.48682\n",
      "[25]\ttrain-rmse:135.61586\n",
      "[26]\ttrain-rmse:134.86052\n",
      "[27]\ttrain-rmse:134.18977\n",
      "[28]\ttrain-rmse:133.58081\n",
      "[29]\ttrain-rmse:133.04720\n",
      "[30]\ttrain-rmse:132.64261\n",
      "[31]\ttrain-rmse:132.20449\n",
      "[32]\ttrain-rmse:131.84373\n",
      "[33]\ttrain-rmse:131.54091\n",
      "[34]\ttrain-rmse:131.18768\n",
      "[35]\ttrain-rmse:130.89339\n",
      "[36]\ttrain-rmse:130.59676\n",
      "[37]\ttrain-rmse:130.30961\n",
      "[38]\ttrain-rmse:130.09679\n",
      "[39]\ttrain-rmse:129.84180\n"
     ]
    }
   ],
   "source": [
    "params = {\"objective\": \"reg:squarederror\", \"verbosity\": 0, \"eta\":0.1, \"alpha\":2}\n",
    "evals_A2 = {}\n",
    "modelA2 = xgb.train(params=params, dtrain=train_reg, evals=evals, evals_result=evals_A2,\n",
    "                  num_boost_round=40)"
   ]
  },
  {
   "cell_type": "code",
   "execution_count": 15,
   "metadata": {},
   "outputs": [
    {
     "name": "stdout",
     "output_type": "stream",
     "text": [
      "[0]\ttrain-rmse:392.24663\n",
      "[1]\ttrain-rmse:358.76177\n",
      "[2]\ttrain-rmse:329.00653\n",
      "[3]\ttrain-rmse:302.61459\n",
      "[4]\ttrain-rmse:279.44086\n",
      "[5]\ttrain-rmse:258.89787\n",
      "[6]\ttrain-rmse:240.96688\n",
      "[7]\ttrain-rmse:225.27594\n",
      "[8]\ttrain-rmse:211.60955\n",
      "[9]\ttrain-rmse:199.67485\n",
      "[10]\ttrain-rmse:189.42176\n",
      "[11]\ttrain-rmse:180.57073\n",
      "[12]\ttrain-rmse:173.06410\n",
      "[13]\ttrain-rmse:166.64201\n",
      "[14]\ttrain-rmse:161.14773\n",
      "[15]\ttrain-rmse:156.47792\n",
      "[16]\ttrain-rmse:152.50299\n",
      "[17]\ttrain-rmse:149.17982\n",
      "[18]\ttrain-rmse:146.38024\n",
      "[19]\ttrain-rmse:143.97943\n",
      "[20]\ttrain-rmse:141.96361\n",
      "[21]\ttrain-rmse:140.29263\n",
      "[22]\ttrain-rmse:138.80874\n",
      "[23]\ttrain-rmse:137.60438\n",
      "[24]\ttrain-rmse:136.60157\n",
      "[25]\ttrain-rmse:135.71685\n",
      "[26]\ttrain-rmse:135.00040\n",
      "[27]\ttrain-rmse:134.31472\n",
      "[28]\ttrain-rmse:133.74361\n",
      "[29]\ttrain-rmse:133.11159\n",
      "[30]\ttrain-rmse:132.63655\n",
      "[31]\ttrain-rmse:132.24482\n",
      "[32]\ttrain-rmse:131.85555\n",
      "[33]\ttrain-rmse:131.53561\n",
      "[34]\ttrain-rmse:131.17190\n",
      "[35]\ttrain-rmse:130.87127\n",
      "[36]\ttrain-rmse:130.55626\n",
      "[37]\ttrain-rmse:130.32715\n",
      "[38]\ttrain-rmse:130.13602\n",
      "[39]\ttrain-rmse:129.95032\n"
     ]
    }
   ],
   "source": [
    "params = {\"objective\": \"reg:squarederror\", \"verbosity\": 0, \"eta\":0.1, \"alpha\":10}\n",
    "evals_A10 = {}\n",
    "modelA10 = xgb.train(params=params, dtrain=train_reg, evals=evals, evals_result=evals_A10,\n",
    "                  num_boost_round=40)"
   ]
  },
  {
   "cell_type": "code",
   "execution_count": 16,
   "metadata": {},
   "outputs": [
    {
     "name": "stdout",
     "output_type": "stream",
     "text": [
      "[0]\ttrain-rmse:392.29609\n",
      "[1]\ttrain-rmse:358.85461\n",
      "[2]\ttrain-rmse:329.13835\n",
      "[3]\ttrain-rmse:302.80384\n",
      "[4]\ttrain-rmse:279.50416\n",
      "[5]\ttrain-rmse:259.11808\n",
      "[6]\ttrain-rmse:241.11190\n",
      "[7]\ttrain-rmse:225.32646\n",
      "[8]\ttrain-rmse:211.69699\n",
      "[9]\ttrain-rmse:199.87399\n",
      "[10]\ttrain-rmse:189.59834\n",
      "[11]\ttrain-rmse:180.82431\n",
      "[12]\ttrain-rmse:173.29282\n",
      "[13]\ttrain-rmse:166.82302\n",
      "[14]\ttrain-rmse:161.33012\n",
      "[15]\ttrain-rmse:156.68620\n",
      "[16]\ttrain-rmse:152.72475\n",
      "[17]\ttrain-rmse:149.36749\n",
      "[18]\ttrain-rmse:146.53047\n",
      "[19]\ttrain-rmse:144.13950\n",
      "[20]\ttrain-rmse:142.11321\n",
      "[21]\ttrain-rmse:140.41770\n",
      "[22]\ttrain-rmse:138.97179\n",
      "[23]\ttrain-rmse:137.76779\n",
      "[24]\ttrain-rmse:136.77311\n",
      "[25]\ttrain-rmse:135.84645\n",
      "[26]\ttrain-rmse:135.07215\n",
      "[27]\ttrain-rmse:134.41753\n",
      "[28]\ttrain-rmse:133.88070\n",
      "[29]\ttrain-rmse:133.33779\n",
      "[30]\ttrain-rmse:132.92766\n",
      "[31]\ttrain-rmse:132.53472\n",
      "[32]\ttrain-rmse:132.11155\n",
      "[33]\ttrain-rmse:131.77925\n",
      "[34]\ttrain-rmse:131.42971\n",
      "[35]\ttrain-rmse:131.15505\n",
      "[36]\ttrain-rmse:130.91176\n",
      "[37]\ttrain-rmse:130.64231\n",
      "[38]\ttrain-rmse:130.39982\n",
      "[39]\ttrain-rmse:130.18606\n"
     ]
    }
   ],
   "source": [
    "params = {\"objective\": \"reg:squarederror\", \"verbosity\": 0, \"eta\":0.1, \"alpha\":100}\n",
    "evals_A100 = {}\n",
    "modelA100 = xgb.train(params=params, dtrain=train_reg, evals=evals, evals_result=evals_A100,\n",
    "                  num_boost_round=40)"
   ]
  },
  {
   "cell_type": "code",
   "execution_count": 17,
   "metadata": {},
   "outputs": [
    {
     "data": {
      "text/plain": [
       "[]"
      ]
     },
     "execution_count": 17,
     "metadata": {},
     "output_type": "execute_result"
    },
    {
     "data": {
      "image/png": "[encoded data removed]",
      "text/plain": [
       "<Figure size 864x576 with 1 Axes>"
      ]
     },
     "metadata": {
      "needs_background": "light"
     },
     "output_type": "display_data"
    }
   ],
   "source": [
    "plt.figure(figsize=(12, 8))\n",
    "plt.plot(evals_simple['train']['rmse'], label=\"default\")\n",
    "plt.plot(evals_L2['train']['rmse'], label=\"lambda = 2\")\n",
    "plt.plot(evals_L10['train']['rmse'], label=\"lambda = 10\")\n",
    "plt.plot(evals_L100['train']['rmse'], label=\"lambda = 100\")\n",
    "plt.plot(evals_A2['train']['rmse'], label=\"alpha = 2\")\n",
    "plt.plot(evals_A10['train']['rmse'], label=\"alpha = 10\")\n",
    "plt.plot(evals_A100['train']['rmse'], label=\"alpha = 100\")\n",
    "plt.legend()\n",
    "plt.plot()"
   ]
  },
  {
   "cell_type": "code",
   "execution_count": 18,
   "metadata": {},
   "outputs": [],
   "source": [
    "def predictions_batches(model, testX):\n",
    "    predictions = []\n",
    "    previous = None\n",
    "\n",
    "    for i in range(testX.shape[0]//24):\n",
    "        testBatch = testX[(i)*24:(i+1)*24, :]\n",
    "        if i != 0:\n",
    "            testBatch[:, -1] = previous \n",
    "        \n",
    "        test_reg = xgb.DMatrix(testBatch, enable_categorical=True)\n",
    "        previous = model.predict(test_reg).tolist()\n",
    "        predictions.extend(previous)\n",
    "\n",
    "    return np.array(predictions)\n",
    "\n",
    "def mape(realY, predY):\n",
    "    return np.mean(np.abs((realY - predY) / realY)) * 100"
   ]
  },
  {
   "cell_type": "code",
   "execution_count": 19,
   "metadata": {},
   "outputs": [
    {
     "name": "stdout",
     "output_type": "stream",
     "text": [
      "13.223565483556918\n",
      "13.231747048672386\n",
      "13.157686316227373\n",
      "13.29670176948898\n",
      "13.212294586029566\n",
      "12.967699443075812\n"
     ]
    }
   ],
   "source": [
    "predSimple = predictions_batches(modelSimple, valX)\n",
    "predL2 = predictions_batches(modelL2, valX)\n",
    "predL10 = predictions_batches(modelL10, valX)\n",
    "predL100 = predictions_batches(modelL100, valX)\n",
    "predA2 = predictions_batches(modelA2, valX)\n",
    "predA10 = predictions_batches(modelA10, valX)\n",
    "predA100 = predictions_batches(modelA100, valX)\n",
    "\n",
    "print(mape(valY, predA2))\n",
    "print(mape(valY, predA10))\n",
    "print(mape(valY, predA100))\n",
    "print(mape(valY, predL2))\n",
    "print(mape(valY, predL10))\n",
    "print(mape(valY, predL100))"
   ]
  },
  {
   "cell_type": "markdown",
   "metadata": {},
   "source": [
    "### separating workdays and weekends/public holidays"
   ]
  },
  {
   "cell_type": "code",
   "execution_count": 27,
   "metadata": {},
   "outputs": [
    {
     "data": {
      "text/html": [
       "<div>\n",
       "<style scoped>\n",
       "    .dataframe tbody tr th:only-of-type {\n",
       "        vertical-align: middle;\n",
       "    }\n",
       "\n",
       "    .dataframe tbody tr th {\n",
       "        vertical-align: top;\n",
       "    }\n",
       "\n",
       "    .dataframe thead th {\n",
       "        text-align: right;\n",
       "    }\n",
       "</style>\n",
       "<table border=\"1\" class=\"dataframe\">\n",
       "  <thead>\n",
       "    <tr style=\"text-align: right;\">\n",
       "      <th></th>\n",
       "      <th>Actual Total Load [MW] - BZN|SK</th>\n",
       "      <th>dow</th>\n",
       "      <th>hour</th>\n",
       "      <th>holiday</th>\n",
       "      <th>yesterday</th>\n",
       "    </tr>\n",
       "  </thead>\n",
       "  <tbody>\n",
       "    <tr>\n",
       "      <th>0</th>\n",
       "      <td>2196.0</td>\n",
       "      <td>0</td>\n",
       "      <td>0</td>\n",
       "      <td>0</td>\n",
       "      <td>2339.0</td>\n",
       "    </tr>\n",
       "    <tr>\n",
       "      <th>1</th>\n",
       "      <td>2090.0</td>\n",
       "      <td>0</td>\n",
       "      <td>1</td>\n",
       "      <td>0</td>\n",
       "      <td>2201.0</td>\n",
       "    </tr>\n",
       "    <tr>\n",
       "      <th>2</th>\n",
       "      <td>2089.0</td>\n",
       "      <td>0</td>\n",
       "      <td>2</td>\n",
       "      <td>0</td>\n",
       "      <td>2211.0</td>\n",
       "    </tr>\n",
       "    <tr>\n",
       "      <th>3</th>\n",
       "      <td>2083.0</td>\n",
       "      <td>0</td>\n",
       "      <td>3</td>\n",
       "      <td>0</td>\n",
       "      <td>2164.0</td>\n",
       "    </tr>\n",
       "    <tr>\n",
       "      <th>4</th>\n",
       "      <td>2208.0</td>\n",
       "      <td>0</td>\n",
       "      <td>4</td>\n",
       "      <td>0</td>\n",
       "      <td>2152.0</td>\n",
       "    </tr>\n",
       "  </tbody>\n",
       "</table>\n",
       "</div>"
      ],
      "text/plain": [
       "  Actual Total Load [MW] - BZN|SK  dow  hour  holiday yesterday\n",
       "0                          2196.0    0     0        0    2339.0\n",
       "1                          2090.0    0     1        0    2201.0\n",
       "2                          2089.0    0     2        0    2211.0\n",
       "3                          2083.0    0     3        0    2164.0\n",
       "4                          2208.0    0     4        0    2152.0"
      ]
     },
     "execution_count": 27,
     "metadata": {},
     "output_type": "execute_result"
    }
   ],
   "source": [
    "dfTrain = df.iloc[:test_split, 2:]\n",
    "dfTrain.head()"
   ]
  },
  {
   "cell_type": "code",
   "execution_count": 36,
   "metadata": {},
   "outputs": [],
   "source": [
    "dfHoliday = dfTrain[(dfTrain['dow'] == 1) | (dfTrain['holiday'] == 1)].loc[:, ['Actual Total Load [MW] - BZN|SK', 'hour', 'yesterday']].reset_index(drop=True)\n",
    "dfWork = dfTrain[(dfTrain['dow'] != 1) & (dfTrain['holiday'] != 1)].loc[:, ['Actual Total Load [MW] - BZN|SK', 'hour', 'yesterday']].reset_index(drop=True)"
   ]
  },
  {
   "cell_type": "code",
   "execution_count": 37,
   "metadata": {},
   "outputs": [],
   "source": [
    "val_holiday = int((dfHoliday.shape[0]//24) * 0.8) * 24\n",
    "val_work = int((dfWork.shape[0]//24) * 0.8) * 24\n",
    "\n",
    "trainHolX, trainHolY = dfHoliday.iloc[:val_holiday, 1:].values.astype(float), dfHoliday.iloc[:val_holiday, 0].to_numpy().astype(float)\n",
    "valHolX, valHolY = dfHoliday.iloc[val_holiday:, 1:].values.astype(float), dfHoliday.iloc[val_holiday:, 0].to_numpy().astype(float)\n",
    "trainWorkX, trainWorkY = dfWork.iloc[:val_work, 1:].values.astype(float), dfWork.iloc[:val_work, 0].to_numpy().astype(float)\n",
    "valWorkX, valWorkY = dfWork.iloc[val_work:, 1:].values.astype(float), dfWork.iloc[val_work:, 0].to_numpy().astype(float)"
   ]
  },
  {
   "cell_type": "code",
   "execution_count": 38,
   "metadata": {},
   "outputs": [
    {
     "name": "stdout",
     "output_type": "stream",
     "text": [
      "[0]\ttrain-rmse:381.30945\n",
      "[1]\ttrain-rmse:348.94640\n",
      "[2]\ttrain-rmse:320.26389\n",
      "[3]\ttrain-rmse:294.91712\n",
      "[4]\ttrain-rmse:272.58548\n",
      "[5]\ttrain-rmse:252.99713\n",
      "[6]\ttrain-rmse:235.88049\n",
      "[7]\ttrain-rmse:220.98434\n",
      "[8]\ttrain-rmse:208.04907\n",
      "[9]\ttrain-rmse:196.94920\n",
      "[10]\ttrain-rmse:187.41086\n",
      "[11]\ttrain-rmse:179.26850\n",
      "[12]\ttrain-rmse:172.35828\n",
      "[13]\ttrain-rmse:166.38769\n",
      "[14]\ttrain-rmse:161.35145\n",
      "[15]\ttrain-rmse:157.09011\n",
      "[16]\ttrain-rmse:153.47867\n",
      "[17]\ttrain-rmse:150.47815\n",
      "[18]\ttrain-rmse:147.94178\n",
      "[19]\ttrain-rmse:145.84111\n",
      "[20]\ttrain-rmse:144.07927\n",
      "[21]\ttrain-rmse:142.52339\n",
      "[22]\ttrain-rmse:141.27694\n",
      "[23]\ttrain-rmse:140.17725\n",
      "[24]\ttrain-rmse:139.26839\n",
      "[25]\ttrain-rmse:138.42767\n",
      "[26]\ttrain-rmse:137.51247\n",
      "[27]\ttrain-rmse:136.95637\n",
      "[28]\ttrain-rmse:136.46250\n",
      "[29]\ttrain-rmse:136.06714\n",
      "[30]\ttrain-rmse:135.70031\n",
      "[31]\ttrain-rmse:135.32304\n",
      "[32]\ttrain-rmse:135.02469\n",
      "[33]\ttrain-rmse:134.73161\n",
      "[34]\ttrain-rmse:134.34429\n",
      "[35]\ttrain-rmse:134.02419\n",
      "[36]\ttrain-rmse:133.75030\n",
      "[37]\ttrain-rmse:133.49088\n",
      "[38]\ttrain-rmse:133.19312\n",
      "[39]\ttrain-rmse:133.06288\n"
     ]
    }
   ],
   "source": [
    "train_work = xgb.DMatrix(trainWorkX, trainWorkY, enable_categorical=True)\n",
    "evals = [(train_work, \"train\")]\n",
    "params = {\"objective\": \"reg:squarederror\", \"verbosity\": 0, \"eta\":0.1, \"alpha\":10}\n",
    "modelWork = xgb.train(params=params, dtrain=train_work, evals=evals, num_boost_round=40)"
   ]
  },
  {
   "cell_type": "code",
   "execution_count": 39,
   "metadata": {},
   "outputs": [
    {
     "name": "stdout",
     "output_type": "stream",
     "text": [
      "[0]\ttrain-rmse:301.41328\n",
      "[1]\ttrain-rmse:277.14364\n",
      "[2]\ttrain-rmse:255.65669\n",
      "[3]\ttrain-rmse:236.68853\n",
      "[4]\ttrain-rmse:220.00139\n",
      "[5]\ttrain-rmse:205.36724\n",
      "[6]\ttrain-rmse:192.55629\n",
      "[7]\ttrain-rmse:181.35648\n",
      "[8]\ttrain-rmse:171.65078\n",
      "[9]\ttrain-rmse:163.27403\n",
      "[10]\ttrain-rmse:156.01418\n",
      "[11]\ttrain-rmse:149.76493\n",
      "[12]\ttrain-rmse:144.45099\n",
      "[13]\ttrain-rmse:139.83646\n",
      "[14]\ttrain-rmse:135.88367\n",
      "[15]\ttrain-rmse:132.56719\n",
      "[16]\ttrain-rmse:129.64583\n",
      "[17]\ttrain-rmse:127.14048\n",
      "[18]\ttrain-rmse:125.06273\n",
      "[19]\ttrain-rmse:123.30020\n",
      "[20]\ttrain-rmse:121.77344\n",
      "[21]\ttrain-rmse:120.44773\n",
      "[22]\ttrain-rmse:119.26071\n",
      "[23]\ttrain-rmse:118.25467\n",
      "[24]\ttrain-rmse:117.27331\n",
      "[25]\ttrain-rmse:116.52230\n",
      "[26]\ttrain-rmse:115.88737\n",
      "[27]\ttrain-rmse:115.25148\n",
      "[28]\ttrain-rmse:114.71229\n",
      "[29]\ttrain-rmse:114.12968\n",
      "[30]\ttrain-rmse:113.60117\n",
      "[31]\ttrain-rmse:113.06361\n",
      "[32]\ttrain-rmse:112.59371\n",
      "[33]\ttrain-rmse:112.24294\n",
      "[34]\ttrain-rmse:111.85899\n",
      "[35]\ttrain-rmse:111.38561\n",
      "[36]\ttrain-rmse:111.03491\n",
      "[37]\ttrain-rmse:110.66505\n",
      "[38]\ttrain-rmse:110.39339\n",
      "[39]\ttrain-rmse:110.02749\n"
     ]
    }
   ],
   "source": [
    "train_holiday = xgb.DMatrix(trainHolX, trainHolY, enable_categorical=True)\n",
    "evals = [(train_holiday, \"train\")]\n",
    "params = {\"objective\": \"reg:squarederror\", \"verbosity\": 0, \"eta\":0.1, \"alpha\":10}\n",
    "modelHoliday = xgb.train(params=params, dtrain=train_holiday, evals=evals, num_boost_round=40)"
   ]
  },
  {
   "cell_type": "code",
   "execution_count": 40,
   "metadata": {},
   "outputs": [],
   "source": [
    "predHol = predictions_batches(modelHoliday, valHolX)\n",
    "predWork = predictions_batches(modelWork, valWorkX)"
   ]
  },
  {
   "cell_type": "code",
   "execution_count": 41,
   "metadata": {},
   "outputs": [
    {
     "data": {
      "text/plain": [
       "13.478371010612216"
      ]
     },
     "execution_count": 41,
     "metadata": {},
     "output_type": "execute_result"
    }
   ],
   "source": [
    "predCombined = predHol.tolist()\n",
    "predCombined.extend(predWork.tolist())\n",
    "predCombined = np.array(predCombined)\n",
    "\n",
    "valCombined = valHolY.tolist()\n",
    "valCombined.extend(valWorkY.tolist())\n",
    "valCombined = np.array(valCombined)\n",
    "\n",
    "mape(valCombined, predCombined)"
   ]
  },
  {
   "cell_type": "markdown",
   "metadata": {},
   "source": [
    "### testing"
   ]
  },
  {
   "cell_type": "code",
   "execution_count": 21,
   "metadata": {},
   "outputs": [
    {
     "name": "stdout",
     "output_type": "stream",
     "text": [
      "[0]\ttrain-rmse:402.34014\n",
      "[1]\ttrain-rmse:372.34624\n",
      "[2]\ttrain-rmse:345.71850\n",
      "[3]\ttrain-rmse:321.60995\n",
      "[4]\ttrain-rmse:300.14613\n",
      "[5]\ttrain-rmse:281.20350\n",
      "[6]\ttrain-rmse:264.33163\n"
     ]
    },
    {
     "name": "stdout",
     "output_type": "stream",
     "text": [
      "[7]\ttrain-rmse:249.48197\n",
      "[8]\ttrain-rmse:236.23521\n",
      "[9]\ttrain-rmse:224.70362\n",
      "[10]\ttrain-rmse:214.31851\n",
      "[11]\ttrain-rmse:205.00717\n",
      "[12]\ttrain-rmse:197.14485\n",
      "[13]\ttrain-rmse:189.98235\n",
      "[14]\ttrain-rmse:183.96990\n",
      "[15]\ttrain-rmse:178.43978\n",
      "[16]\ttrain-rmse:173.83267\n",
      "[17]\ttrain-rmse:169.65480\n",
      "[18]\ttrain-rmse:165.82545\n",
      "[19]\ttrain-rmse:162.62543\n",
      "[20]\ttrain-rmse:159.95598\n",
      "[21]\ttrain-rmse:157.61808\n",
      "[22]\ttrain-rmse:155.39009\n",
      "[23]\ttrain-rmse:153.34263\n",
      "[24]\ttrain-rmse:151.60542\n",
      "[25]\ttrain-rmse:150.18295\n",
      "[26]\ttrain-rmse:148.82824\n",
      "[27]\ttrain-rmse:147.73312\n",
      "[28]\ttrain-rmse:146.77300\n",
      "[29]\ttrain-rmse:145.75502\n",
      "[30]\ttrain-rmse:144.87212\n",
      "[31]\ttrain-rmse:144.06237\n",
      "[32]\ttrain-rmse:143.34238\n",
      "[33]\ttrain-rmse:142.74517\n",
      "[34]\ttrain-rmse:142.13917\n",
      "[35]\ttrain-rmse:141.60584\n",
      "[36]\ttrain-rmse:141.15961\n",
      "[37]\ttrain-rmse:140.74826\n",
      "[38]\ttrain-rmse:140.33884\n",
      "[39]\ttrain-rmse:140.01107\n"
     ]
    }
   ],
   "source": [
    "#training the selected model on train + val data\n",
    "trainX, trainY = df.iloc[:test_split, 3:].values.astype(float), df.iloc[:test_split, 2].to_numpy().astype(float)\n",
    "train_reg = xgb.DMatrix(trainX, trainY, enable_categorical=True)\n",
    "params = {\"objective\": \"reg:squarederror\", \"verbosity\": 0, \"eta\":0.1, \"lambda\":100}\n",
    "model = xgb.train(params=params, dtrain=train_reg, evals=evals, num_boost_round=40)"
   ]
  },
  {
   "cell_type": "code",
   "execution_count": 22,
   "metadata": {},
   "outputs": [],
   "source": [
    "predTest = predictions_batches(model, testX)"
   ]
  },
  {
   "cell_type": "code",
   "execution_count": 23,
   "metadata": {},
   "outputs": [
    {
     "data": {
      "text/plain": [
       "<matplotlib.legend.Legend at 0x12af9f727f0>"
      ]
     },
     "execution_count": 23,
     "metadata": {},
     "output_type": "execute_result"
    },
    {
     "data": {
      "image/png": "[encoded data removed]",
      "text/plain": [
       "<Figure size 864x576 with 1 Axes>"
      ]
     },
     "metadata": {
      "needs_background": "light"
     },
     "output_type": "display_data"
    }
   ],
   "source": [
    "plt.figure(figsize=(12, 8))\n",
    "plt.plot(testY, color=\"blue\", label=\"reality\")\n",
    "plt.plot(predTest, color=\"red\", label=\"prediction\")\n",
    "plt.legend()"
   ]
  },
  {
   "cell_type": "code",
   "execution_count": 24,
   "metadata": {},
   "outputs": [
    {
     "data": {
      "text/plain": [
       "8.036361949499899"
      ]
     },
     "execution_count": 24,
     "metadata": {},
     "output_type": "execute_result"
    }
   ],
   "source": [
    "mape(testY, predTest)"
   ]
  },
  {
   "cell_type": "code",
   "execution_count": null,
   "metadata": {},
   "outputs": [],
   "source": []
  }
 ],
 "metadata": {
  "kernelspec": {
   "display_name": "Python 3",
   "language": "python",
   "name": "python3"
  },
  "language_info": {
   "codemirror_mode": {
    "name": "ipython",
    "version": 3
   },
   "file_extension": ".py",
   "mimetype": "text/x-python",
   "name": "python",
   "nbconvert_exporter": "python",
   "pygments_lexer": "ipython3",
   "version": "3.9.13"
  }
 },
 "nbformat": 4,
 "nbformat_minor": 2
}
